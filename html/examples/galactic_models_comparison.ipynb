{
 "cells": [
  {
   "cell_type": "markdown",
   "metadata": {},
   "source": [
    "# Galactic models comparison - short version"
   ]
  },
  {
   "cell_type": "code",
   "execution_count": null,
   "metadata": {},
   "outputs": [],
   "source": [
    "from healpy.newvisufunc import projview\n",
    "from healpy.rotator import Rotator\n",
    "import healpy as hp\n",
    "import traceback\n",
    "\n",
    "import pandas as pd\n",
    "import numpy as np\n",
    "import matplotlib.pyplot as plt\n",
    "import itertools\n",
    "\n",
    "import plotly.graph_objects as go\n",
    "import plotly.express as px\n",
    "\n",
    "from sklearn.neighbors import KernelDensity\n",
    "\n",
    "import os\n",
    "import sys\n",
    "from radiocalibrationtoolkit import *"
   ]
  },
  {
   "cell_type": "code",
   "execution_count": null,
   "metadata": {},
   "outputs": [],
   "source": [
    "# some global plot settings\n",
    "plt.rcParams[\"axes.labelweight\"] = \"bold\"\n",
    "plt.rcParams[\"font.weight\"] = \"bold\"\n",
    "plt.rcParams['font.size'] = 16\n",
    "plt.rcParams['legend.fontsize']= 14\n",
    "\n",
    "plt.rcParams['xtick.major.width']= 2\n",
    "plt.rcParams['ytick.major.width']= 2\n",
    "\n",
    "plt.rcParams['xtick.major.size']= 5\n",
    "plt.rcParams['ytick.major.size']= 5\n",
    "\n",
    "plt.rcParams['xtick.labelsize']= 14\n",
    "plt.rcParams['ytick.labelsize']= 14"
   ]
  },
  {
   "cell_type": "code",
   "execution_count": null,
   "metadata": {},
   "outputs": [],
   "source": [
    "# Prepare instances\n",
    "lfmap = LFmap()\n",
    "lfss = LowFrequencySkyModel(freq_unit=\"MHz\")\n",
    "gsm2008 = GlobalSkyModel(freq_unit=\"MHz\")\n",
    "gsm2016 = GlobalSkyModel2016(freq_unit=\"MHz\")\n",
    "haslam = HaslamSkyModel(freq_unit=\"MHz\", spectral_index=-2.53)\n",
    "ssm = SSM()\n",
    "gmoss = GMOSS()\n",
    "ulsa_fdi = ULSA(index_type='freq_dependent_index')\n",
    "ulsa_ci = ULSA(index_type='constant_index')\n",
    "ulsa_dpi = ULSA(index_type='direction_dependent_index')"
   ]
  },
  {
   "cell_type": "code",
   "execution_count": null,
   "metadata": {},
   "outputs": [],
   "source": [
    "frequency_MHz = 45\n",
    "\n",
    "lfmap_map = lfmap.generate(frequency_MHz)\n",
    "lfss_map = lfss.generate(frequency_MHz)\n",
    "gsm2008_map = gsm2008.generate(frequency_MHz)\n",
    "gsm2016_map = gsm2016.generate(frequency_MHz)\n",
    "haslam_map = haslam.generate(frequency_MHz)\n",
    "ssm_map = ssm.generate(frequency_MHz)\n",
    "gmoss_map = gmoss.generate(frequency_MHz)\n",
    "ulsa_fdi_map = ulsa_fdi.generate(frequency_MHz)\n",
    "ulsa_ci_map = ulsa_ci.generate(frequency_MHz)\n",
    "ulsa_dpi_map = ulsa_dpi.generate(frequency_MHz)"
   ]
  },
  {
   "cell_type": "code",
   "execution_count": null,
   "metadata": {},
   "outputs": [],
   "source": [
    "# Check size of the arrays and NSIDE number and angular resolution\n",
    "\n",
    "map_list = [lfmap_map, lfss_map, gsm2008_map, gsm2016_map, haslam_map, ssm_map, gmoss_map, ulsa_fdi_map, ulsa_ci_map, ulsa_dpi_map]\n",
    "[print_map_properties(m) for m in map_list]"
   ]
  },
  {
   "cell_type": "code",
   "execution_count": null,
   "metadata": {},
   "outputs": [],
   "source": [
    "# convert to same NSIDE\n",
    "new_nside = 64\n",
    "lfmap_map_N = hp.ma(hp.pixelfunc.ud_grade(lfmap_map, new_nside))\n",
    "lfss_map_N = hp.ma(hp.pixelfunc.ud_grade(lfss_map, new_nside))\n",
    "gsm2008_map_N = hp.ma(hp.pixelfunc.ud_grade(gsm2008_map, new_nside))\n",
    "gsm2016_map_N = hp.ma(hp.pixelfunc.ud_grade(gsm2016_map, new_nside))\n",
    "ssm_map_N = hp.ma(hp.pixelfunc.ud_grade(ssm_map, new_nside))\n",
    "haslam_map_N = hp.ma(hp.pixelfunc.ud_grade(haslam_map, new_nside))\n",
    "gmoss_map_N = hp.ma(hp.pixelfunc.ud_grade(gmoss_map, new_nside))\n",
    "ulsa_fdi_map_N = hp.ma(hp.pixelfunc.ud_grade(ulsa_fdi_map, new_nside))\n",
    "ulsa_ci_map_N = hp.ma(hp.pixelfunc.ud_grade(ulsa_ci_map, new_nside))\n",
    "ulsa_dpi_map_N = hp.ma(hp.pixelfunc.ud_grade(ulsa_dpi_map, new_nside))"
   ]
  },
  {
   "cell_type": "code",
   "execution_count": null,
   "metadata": {},
   "outputs": [],
   "source": [
    "map_dict = {\n",
    "    \"LFSS\": lfss_map_N,\n",
    "    \"GSM08\": gsm2008_map_N,\n",
    "    \"GSM16\": gsm2016_map_N,\n",
    "    \"Haslam\": haslam_map_N,\n",
    "    \"LFmap\": lfmap_map_N,\n",
    "    \"SSM\": ssm_map_N,\n",
    "    \"GMOSS\": gmoss_map_N,\n",
    "    \"ULSA\": ulsa_fdi_map_N,\n",
    "    # \"ULSA2\": ulsa_ci_map_N,\n",
    "    # \"ULSA3\": ulsa_dpi_map_N,\n",
    "}\n",
    "\n",
    "ulsa_map_dict = {\n",
    "    \"ULSA FDI\": ulsa_fdi_map_N,\n",
    "    \"ULSA CI\": ulsa_ci_map_N,\n",
    "    \"ULSA DPI\": ulsa_dpi_map_N,\n",
    "}\n"
   ]
  },
  {
   "cell_type": "code",
   "execution_count": null,
   "metadata": {},
   "outputs": [],
   "source": [
    "# Print the maps in the dictionary\n",
    "[(key, map_dict[key]) for key in map_dict]"
   ]
  },
  {
   "cell_type": "markdown",
   "metadata": {},
   "source": [
    "## Galactic coordinates"
   ]
  },
  {
   "cell_type": "code",
   "execution_count": null,
   "metadata": {},
   "outputs": [],
   "source": [
    "# Prints all maps\n",
    "cmap = \"jet\"\n",
    "projection_type = \"mollweide\"\n",
    "\n",
    "for key in map_dict:\n",
    "\n",
    "    projview(\n",
    "        map_dict[key],\n",
    "        norm=\"log\",\n",
    "        coord=[\"G\"],\n",
    "        graticule=True,\n",
    "        graticule_labels=True,\n",
    "        unit=\"Temperature ln[K]\",\n",
    "        xlabel=\"RA\",\n",
    "        ylabel=\"DEC\",\n",
    "        cb_orientation=\"vertical\",\n",
    "        min=3500,\n",
    "        max=35000,\n",
    "        latitude_grid_spacing=30,\n",
    "        projection_type=projection_type,\n",
    "        title=key,\n",
    "        xtick_label_color=\"white\",\n",
    "        cmap=cmap,\n",
    "    )"
   ]
  },
  {
   "cell_type": "code",
   "execution_count": null,
   "metadata": {},
   "outputs": [],
   "source": [
    "compare_maps(\n",
    "    map_dict,\n",
    "    main_title=\"Frequency: {} MHz; Compared on {:.2f}{} angular resolution\".format(\n",
    "        frequency_MHz, np.rad2deg(hp.pixelfunc.nside2resol(new_nside)), chr(176)\n",
    "    ),\n",
    ")"
   ]
  },
  {
   "cell_type": "code",
   "execution_count": null,
   "metadata": {},
   "outputs": [],
   "source": [
    "compare_maps(\n",
    "    ulsa_map_dict,\n",
    "    main_title=\"Frequency: {} MHz; Compared on {:.2f}{} angular resolution\".format(\n",
    "        frequency_MHz, np.rad2deg(hp.pixelfunc.nside2resol(new_nside)), chr(176)\n",
    "    ),\n",
    ")"
   ]
  },
  {
   "cell_type": "markdown",
   "metadata": {},
   "source": [
    "## Local obsever"
   ]
  },
  {
   "cell_type": "code",
   "execution_count": null,
   "metadata": {},
   "outputs": [],
   "source": [
    "lst = 18\n",
    "latitude = -35.206667\n",
    "frequency_MHz = 45\n",
    "main_title = \"Frequency: {} MHz; Compared on {:.2f}{} angular resolution; LST:{}; Latitude:{:.2f}\".format(\n",
    "    frequency_MHz, np.rad2deg(hp.pixelfunc.nside2resol(new_nside)), chr(176), lst, latitude\n",
    ")\n",
    "\n",
    "# Local coordinates at LST time \"LSTtime\" at latitude \"latitude\"\n",
    "rotation_parameters = create_rotation_parameters(lst, latitude)"
   ]
  },
  {
   "cell_type": "code",
   "execution_count": null,
   "metadata": {},
   "outputs": [],
   "source": [
    "# Prints all maps\n",
    "cmap = \"jet\"\n",
    "projection_type = \"mollweide\"\n",
    "\n",
    "for key in map_dict:\n",
    "\n",
    "    projview(\n",
    "        map_dict[key],\n",
    "        norm=\"log\",\n",
    "        coord=['G','C'],\n",
    "        rot=rotation_parameters,\n",
    "        graticule=True,\n",
    "        graticule_labels=True,\n",
    "        unit=\"Temperature ln[K]\",\n",
    "        xlabel=\"azimuth\",\n",
    "        ylabel=\"altitude\",\n",
    "        cb_orientation=\"vertical\",\n",
    "        min=3500,\n",
    "        max=35000,\n",
    "        latitude_grid_spacing=30,\n",
    "        projection_type=projection_type,\n",
    "        title=key,\n",
    "        xtick_label_color=\"white\",\n",
    "        cmap=cmap,\n",
    "    )"
   ]
  },
  {
   "cell_type": "code",
   "execution_count": null,
   "metadata": {},
   "outputs": [],
   "source": [
    "# Create mask, at local coordinates we see only a hemisphere\n",
    "mask = create_local_mask(new_nside, rotation_parameters)"
   ]
  },
  {
   "cell_type": "code",
   "execution_count": null,
   "metadata": {},
   "outputs": [],
   "source": [
    "# Test\n",
    "m = map_dict['LFmap'].copy()\n",
    "m.mask = mask\n",
    "\n",
    "projview(\n",
    "    m,\n",
    "    norm=\"log\",\n",
    "    coord=[\"G\",'C'],\n",
    "    rot=rotation_parameters,\n",
    "    graticule=True,\n",
    "    graticule_labels=True,\n",
    "    unit=\"Temperature ln[K]\",\n",
    "    xlabel=\"azimuth\",\n",
    "    ylabel=\"altitude\",\n",
    "    cb_orientation=\"vertical\",\n",
    "    min=3500,\n",
    "    max=35000,\n",
    "    latitude_grid_spacing=30,\n",
    "    xtick_label_color=\"white\",\n",
    "    title=main_title,\n",
    "    cmap=cmap,\n",
    ")\n",
    "\n",
    "projview(\n",
    "    m,\n",
    "    norm=\"log\",\n",
    "    coord=[\"G\"],\n",
    "    rot=False,\n",
    "    graticule=True,\n",
    "    graticule_labels=True,\n",
    "    unit=\"Temperature ln[K]\",\n",
    "    xlabel=\"RA\",\n",
    "    ylabel=\"DEC\",\n",
    "    cb_orientation=\"vertical\",\n",
    "    min=3500,\n",
    "    max=35000,\n",
    "    latitude_grid_spacing=30,\n",
    "    xtick_label_color=\"white\",\n",
    "    title=main_title,\n",
    "    cmap=cmap,\n",
    ")"
   ]
  },
  {
   "cell_type": "markdown",
   "metadata": {},
   "source": [
    "### In local coordinates"
   ]
  },
  {
   "cell_type": "code",
   "execution_count": 16,
   "metadata": {},
   "outputs": [],
   "source": [
    "compare_maps(\n",
    "    map_dict, rotation_parameters=rotation_parameters, coord=['G','C'], main_title=main_title, mask=mask\n",
    ")"
   ]
  },
  {
   "cell_type": "markdown",
   "metadata": {},
   "source": [
    "### In galactic coordinates (masked)"
   ]
  },
  {
   "cell_type": "code",
   "execution_count": null,
   "metadata": {},
   "outputs": [],
   "source": [
    "compare_maps(map_dict, rotation_parameters=False, main_title=main_title, mask=mask)"
   ]
  },
  {
   "cell_type": "code",
   "execution_count": null,
   "metadata": {},
   "outputs": [],
   "source": [
    "lst = 18\n",
    "latitude = -35.206667\n",
    "rotation_parameters = create_rotation_parameters(lst, latitude)\n",
    "mask = create_local_mask(nside, rotation_parameters)\n",
    "gsm2016_map = hp.ma(gsm2016_map)\n",
    "gsm2016_map.mask = mask\n"
   ]
  }
 ],
 "metadata": {
  "kernelspec": {
   "display_name": "Python 3 (ipykernel)",
   "language": "python",
   "name": "python3"
  },
  "language_info": {
   "codemirror_mode": {
    "name": "ipython",
    "version": 3
   },
   "file_extension": ".py",
   "mimetype": "text/x-python",
   "name": "python",
   "nbconvert_exporter": "python",
   "pygments_lexer": "ipython3",
   "version": "3.10.6"
  },
  "toc": {
   "base_numbering": 1,
   "nav_menu": {},
   "number_sections": true,
   "sideBar": true,
   "skip_h1_title": false,
   "title_cell": "Table of Contents",
   "title_sidebar": "Contents",
   "toc_cell": false,
   "toc_position": {},
   "toc_section_display": true,
   "toc_window_display": false
  },
  "vscode": {
   "interpreter": {
    "hash": "e7370f93d1d0cde622a1f8e1c04877d8463912d04d973331ad4851f04de6915a"
   }
  }
 },
 "nbformat": 4,
 "nbformat_minor": 2
}
